{
 "cells": [
  {
   "cell_type": "markdown",
   "id": "713b0dbe",
   "metadata": {},
   "source": [
    "# 00 — Data Generation\n",
    "This notebook creates required folders and a sample dataset for the demo."
   ]
  },
  {
   "cell_type": "code",
   "execution_count": 5,
   "id": "5f74486b",
   "metadata": {},
   "outputs": [
    {
     "name": "stdout",
     "output_type": "stream",
     "text": [
      "Base: C:\\Users\\Jovane\\cartflow-cancellation-analysis\n"
     ]
    }
   ],
   "source": [
    "# --- Project root & folders \n",
    "from pathlib import Path\n",
    "\n",
    "project_base_dir = Path.cwd()\n",
    "if project_base_dir.name == \"notebooks\":\n",
    "    project_base_dir = project_base_dir.parent\n",
    "\n",
    "data_dir   = project_base_dir / \"data\"\n",
    "images_dir = project_base_dir / \"images\"\n",
    "\n",
    "data_dir.mkdir(parents=True, exist_ok=True)\n",
    "images_dir.mkdir(parents=True, exist_ok=True)\n",
    "\n",
    "print(f\"Base: {project_base_dir}\")\n"
   ]
  },
  {
   "cell_type": "code",
   "execution_count": 6,
   "id": "d34f7e21-a0ab-419e-898d-2fd68f57ff24",
   "metadata": {},
   "outputs": [
    {
     "name": "stdout",
     "output_type": "stream",
     "text": [
      "✅ Environment successfully configured! All libraries are ready.\n"
     ]
    }
   ],
   "source": [
    "# Core libraries for data analysis and manipulation\n",
    "import pandas as pd\n",
    "import numpy as np\n",
    "\n",
    "# Libraries for creating professional and insightful data visualizations\n",
    "import matplotlib.pyplot as plt\n",
    "import seaborn as sns\n",
    "\n",
    "# Library for handling dates and times\n",
    "import datetime\n",
    "\n",
    "# Libraries for machine learning models and metrics\n",
    "from sklearn.model_selection import train_test_split\n",
    "from sklearn.linear_model import LogisticRegression\n",
    "from sklearn.preprocessing import StandardScaler\n",
    "from sklearn.metrics import classification_report, confusion_matrix, roc_auc_score, accuracy_score\n",
    "from pathlib import Path\n",
    "\n",
    "# Create required folders if they don't exist\n",
    "# handled by setup\n",
    "# Set the visualization style for a clean, professional look\n",
    "sns.set(style=\"whitegrid\")\n",
    "plt.style.use('seaborn-v0_8-whitegrid')\n",
    "plt.rcParams.update({'figure.figsize': (12, 8), 'axes.titlesize': 16, 'axes.labelsize': 12, 'axes.titlepad': 20})\n",
    "\n",
    "print(\"✅ Environment successfully configured! All libraries are ready.\")"
   ]
  },
  {
   "cell_type": "code",
   "execution_count": 3,
   "id": "6de783ba-af61-4f09-87a3-272ff6bdcf5b",
   "metadata": {},
   "outputs": [
    {
     "name": "stdout",
     "output_type": "stream",
     "text": [
      "Sample CSV already exists at C:\\Users\\Jovane\\cartflow-cancellation-analysis\\data\\sample_data\n"
     ]
    }
   ],
   "source": [
    "import pandas as pd\n",
    "\n",
    "sample_csv_path = Path(data_dir / r\"sample_data\")\n",
    "\n",
    "if not sample_csv_path.exists():\n",
    "    df_sample = pd.DataFrame({\n",
    "        \"order_id\":[1,2,3,4,5,6,7,8,9,10],\n",
    "        \"order_value\":[58,41,72,63,55,60,49,80,66,52],\n",
    "        \"cancelled\":[1,0,0,1,0,0,1,0,0,1],\n",
    "        \"payment_method\":[\"credit_card\",\"debit\",\"credit_card\",\"paypal\",\"credit_card\",\"debit\",\"paypal\",\"credit_card\",\"debit\",\"credit_card\"],\n",
    "        \"shipping_eta_days\":[8,3,2,9,4,5,10,3,6,7],\n",
    "        \"device\":[\"mobile\",\"desktop\",\"desktop\",\"mobile\",\"mobile\",\"desktop\",\"mobile\",\"desktop\",\"mobile\",\"mobile\"]\n",
    "    })\n",
    "    df_sample.to_csv(sample_csv_path, index=False)\n",
    "    print(f\"Sample CSV created at {sample_csv_path}\")\n",
    "else:\n",
    "    print(f\"Sample CSV already exists at {sample_csv_path}\")\n"
   ]
  },
  {
   "cell_type": "code",
   "execution_count": 4,
   "id": "b0ef32c8",
   "metadata": {},
   "outputs": [
    {
     "name": "stdout",
     "output_type": "stream",
     "text": [
      "Condition not met. Check if the source file exists and the destination does not.\n"
     ]
    }
   ],
   "source": [
    "from pathlib import Path\n",
    "import pandas as pd\n",
    "\n",
    "# Assuming 'data_dir' has already been defined and the folder created\n",
    "data_dir = Path(\"./data\")\n",
    "data_dir.mkdir(exist_ok=True)\n",
    "\n",
    "# Define the source (src) and destination (dst) paths using\n",
    "# clear and descriptive file names.\n",
    "src = Path(data_dir / \"sample_data.csv\")  # Path to the original file\n",
    "dst = Path(data_dir / \"orders.csv\")      # Path to the new file\n",
    "\n",
    "# Check if the source file exists and the destination file does NOT exist\n",
    "if src.exists() and not dst.exists():\n",
    "    try:\n",
    "        # Read the source file and save it to the destination\n",
    "        pd.read_csv(src).to_csv(dst, index=False)\n",
    "        print(f\"File '{dst.name}' created from '{src.name}'\")\n",
    "    except FileNotFoundError:\n",
    "        print(f\"Error: The source file '{src.name}' was not found.\")\n",
    "else:\n",
    "    print(\"Condition not met. Check if the source file exists and the destination does not.\")"
   ]
  },
  {
   "cell_type": "code",
   "execution_count": null,
   "id": "3da00987-ef71-4efa-9b3e-5500f04c7487",
   "metadata": {},
   "outputs": [],
   "source": []
  }
 ],
 "metadata": {
  "kernelspec": {
   "display_name": "Python 3 (ipykernel)",
   "language": "python",
   "name": "python3"
  },
  "language_info": {
   "codemirror_mode": {
    "name": "ipython",
    "version": 3
   },
   "file_extension": ".py",
   "mimetype": "text/x-python",
   "name": "python",
   "nbconvert_exporter": "python",
   "pygments_lexer": "ipython3",
   "version": "3.13.5"
  }
 },
 "nbformat": 4,
 "nbformat_minor": 5
}
